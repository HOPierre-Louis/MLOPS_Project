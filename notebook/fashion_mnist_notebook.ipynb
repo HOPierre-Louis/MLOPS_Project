{
  "nbformat": 4,
  "nbformat_minor": 0,
  "metadata": {
    "colab": {
      "provenance": []
    },
    "kernelspec": {
      "name": "python3",
      "display_name": "Python 3"
    },
    "language_info": {
      "name": "python"
    }
  },
  "cells": [
    {
      "cell_type": "markdown",
      "source": [
        "# **Import**"
      ],
      "metadata": {
        "id": "llQ9GdQSNAxD"
      }
    },
    {
      "cell_type": "code",
      "execution_count": 1,
      "metadata": {
        "id": "wTh6iX6sCKKU"
      },
      "outputs": [],
      "source": [
        "from keras.models import Sequential\n",
        "from keras.layers import Dense, Flatten\n",
        "from keras.utils import to_categorical\n",
        "import numpy as np\n",
        "import matplotlib.pyplot as plt"
      ]
    },
    {
      "cell_type": "markdown",
      "source": [
        "# **Load Data**\n"
      ],
      "metadata": {
        "id": "XcRPZQRCMH6D"
      }
    },
    {
      "cell_type": "code",
      "source": [
        "# labels\n",
        "class_labels = {\n",
        "    0: 'T-shirt/top',\n",
        "    1: 'Trouser',\n",
        "    2: 'Pullover',\n",
        "    3: 'Dress',\n",
        "    4: 'Coat',\n",
        "    5: 'Sandal',\n",
        "    6: 'Shirt',\n",
        "    7: 'Sneaker',\n",
        "    8: 'Bag',\n",
        "    9: 'Ankle boot'\n",
        "}\n",
        "\n",
        "# load the data\n",
        "data = np.loadtxt('/content/drive/MyDrive/MLops/data/fashion-mnist-train-1.csv', delimiter=',', skiprows=1)\n",
        "train_images = data[:, 1:]\n",
        "train_labels = data[:, 0]\n",
        "train_images = train_images.reshape(train_images.shape[0], 28, 28, 1)\n",
        "train_images = train_images / 255\n",
        "train_labels = to_categorical(train_labels)\n",
        "\n",
        "# load the test data\n",
        "test_data = np.loadtxt('/content/drive/MyDrive/MLops/data/fashion-mnist_test.csv', delimiter=',', skiprows=1)\n",
        "test_images = test_data[:, 1:]\n",
        "test_labels = test_data[:, 0]\n",
        "test_images = test_images.reshape(test_images.shape[0], 28, 28, 1)\n",
        "test_images = test_images / 255\n",
        "test_labels = to_categorical(test_labels)"
      ],
      "metadata": {
        "id": "1xDsjB4cHsMj"
      },
      "execution_count": 2,
      "outputs": []
    },
    {
      "cell_type": "markdown",
      "source": [
        "# **Training**"
      ],
      "metadata": {
        "id": "KXxLexzkMOh5"
      }
    },
    {
      "cell_type": "code",
      "source": [
        "# define the model\n",
        "model = Sequential()\n",
        "model.add(Flatten(input_shape=(28, 28, 1)))\n",
        "model.add(Dense(128, activation='relu'))\n",
        "model.add(Dense(10, activation='softmax'))\n",
        "\n",
        "model.compile(loss='categorical_crossentropy', optimizer='adam', metrics=['accuracy'])\n",
        "model.fit(train_images, train_labels, epochs=50, batch_size=32)"
      ],
      "metadata": {
        "colab": {
          "base_uri": "https://localhost:8080/"
        },
        "id": "B4BBCRDSCTIO",
        "outputId": "702413e3-6297-4c62-86c0-ccc6cef57ce1"
      },
      "execution_count": 3,
      "outputs": [
        {
          "output_type": "stream",
          "name": "stdout",
          "text": [
            "Epoch 1/50\n",
            "469/469 [==============================] - 2s 4ms/step - loss: 0.6513 - accuracy: 0.7715\n",
            "Epoch 2/50\n",
            "469/469 [==============================] - 2s 4ms/step - loss: 0.4620 - accuracy: 0.8382\n",
            "Epoch 3/50\n",
            "469/469 [==============================] - 3s 6ms/step - loss: 0.4227 - accuracy: 0.8511\n",
            "Epoch 4/50\n",
            "469/469 [==============================] - 2s 5ms/step - loss: 0.3849 - accuracy: 0.8596\n",
            "Epoch 5/50\n",
            "469/469 [==============================] - 3s 6ms/step - loss: 0.3556 - accuracy: 0.8745\n",
            "Epoch 6/50\n",
            "469/469 [==============================] - 3s 6ms/step - loss: 0.3391 - accuracy: 0.8760\n",
            "Epoch 7/50\n",
            "469/469 [==============================] - 3s 6ms/step - loss: 0.3257 - accuracy: 0.8813\n",
            "Epoch 8/50\n",
            "469/469 [==============================] - 2s 4ms/step - loss: 0.3115 - accuracy: 0.8861\n",
            "Epoch 9/50\n",
            "469/469 [==============================] - 2s 5ms/step - loss: 0.2895 - accuracy: 0.8952\n",
            "Epoch 10/50\n",
            "469/469 [==============================] - 2s 4ms/step - loss: 0.2777 - accuracy: 0.8986\n",
            "Epoch 11/50\n",
            "469/469 [==============================] - 2s 4ms/step - loss: 0.2719 - accuracy: 0.9004\n",
            "Epoch 12/50\n",
            "469/469 [==============================] - 2s 4ms/step - loss: 0.2525 - accuracy: 0.9076\n",
            "Epoch 13/50\n",
            "469/469 [==============================] - 4s 8ms/step - loss: 0.2421 - accuracy: 0.9133\n",
            "Epoch 14/50\n",
            "469/469 [==============================] - 3s 7ms/step - loss: 0.2319 - accuracy: 0.9163\n",
            "Epoch 15/50\n",
            "469/469 [==============================] - 3s 6ms/step - loss: 0.2247 - accuracy: 0.9185\n",
            "Epoch 16/50\n",
            "469/469 [==============================] - 3s 6ms/step - loss: 0.2122 - accuracy: 0.9223\n",
            "Epoch 17/50\n",
            "469/469 [==============================] - 1s 3ms/step - loss: 0.2038 - accuracy: 0.9253\n",
            "Epoch 18/50\n",
            "469/469 [==============================] - 2s 3ms/step - loss: 0.1935 - accuracy: 0.9299\n",
            "Epoch 19/50\n",
            "469/469 [==============================] - 2s 3ms/step - loss: 0.1866 - accuracy: 0.9321\n",
            "Epoch 20/50\n",
            "469/469 [==============================] - 1s 3ms/step - loss: 0.1833 - accuracy: 0.9344\n",
            "Epoch 21/50\n",
            "469/469 [==============================] - 1s 3ms/step - loss: 0.1806 - accuracy: 0.9338\n",
            "Epoch 22/50\n",
            "469/469 [==============================] - 2s 3ms/step - loss: 0.1658 - accuracy: 0.9405\n",
            "Epoch 23/50\n",
            "469/469 [==============================] - 2s 3ms/step - loss: 0.1715 - accuracy: 0.9391\n",
            "Epoch 24/50\n",
            "469/469 [==============================] - 2s 4ms/step - loss: 0.1600 - accuracy: 0.9425\n",
            "Epoch 25/50\n",
            "469/469 [==============================] - 2s 4ms/step - loss: 0.1520 - accuracy: 0.9444\n",
            "Epoch 26/50\n",
            "469/469 [==============================] - 2s 4ms/step - loss: 0.1455 - accuracy: 0.9495\n",
            "Epoch 27/50\n",
            "469/469 [==============================] - 2s 5ms/step - loss: 0.1388 - accuracy: 0.9493\n",
            "Epoch 28/50\n",
            "469/469 [==============================] - 2s 5ms/step - loss: 0.1370 - accuracy: 0.9507\n",
            "Epoch 29/50\n",
            "469/469 [==============================] - 3s 6ms/step - loss: 0.1349 - accuracy: 0.9491\n",
            "Epoch 30/50\n",
            "469/469 [==============================] - 2s 5ms/step - loss: 0.1231 - accuracy: 0.9561\n",
            "Epoch 31/50\n",
            "469/469 [==============================] - 2s 5ms/step - loss: 0.1289 - accuracy: 0.9531\n",
            "Epoch 32/50\n",
            "469/469 [==============================] - 3s 6ms/step - loss: 0.1185 - accuracy: 0.9570\n",
            "Epoch 33/50\n",
            "469/469 [==============================] - 3s 6ms/step - loss: 0.1127 - accuracy: 0.9597\n",
            "Epoch 34/50\n",
            "469/469 [==============================] - 2s 5ms/step - loss: 0.1062 - accuracy: 0.9607\n",
            "Epoch 35/50\n",
            "469/469 [==============================] - 2s 5ms/step - loss: 0.1053 - accuracy: 0.9617\n",
            "Epoch 36/50\n",
            "469/469 [==============================] - 2s 5ms/step - loss: 0.0988 - accuracy: 0.9646\n",
            "Epoch 37/50\n",
            "469/469 [==============================] - 3s 6ms/step - loss: 0.0955 - accuracy: 0.9663\n",
            "Epoch 38/50\n",
            "469/469 [==============================] - 4s 8ms/step - loss: 0.1063 - accuracy: 0.9608\n",
            "Epoch 39/50\n",
            "469/469 [==============================] - 4s 8ms/step - loss: 0.0928 - accuracy: 0.9675\n",
            "Epoch 40/50\n",
            "469/469 [==============================] - 4s 8ms/step - loss: 0.0950 - accuracy: 0.9661\n",
            "Epoch 41/50\n",
            "469/469 [==============================] - 2s 4ms/step - loss: 0.0875 - accuracy: 0.9682\n",
            "Epoch 42/50\n",
            "469/469 [==============================] - 2s 4ms/step - loss: 0.0821 - accuracy: 0.9710\n",
            "Epoch 43/50\n",
            "469/469 [==============================] - 2s 5ms/step - loss: 0.0859 - accuracy: 0.9690\n",
            "Epoch 44/50\n",
            "469/469 [==============================] - 2s 5ms/step - loss: 0.0763 - accuracy: 0.9721\n",
            "Epoch 45/50\n",
            "469/469 [==============================] - 2s 4ms/step - loss: 0.0840 - accuracy: 0.9700\n",
            "Epoch 46/50\n",
            "469/469 [==============================] - 2s 5ms/step - loss: 0.0729 - accuracy: 0.9759\n",
            "Epoch 47/50\n",
            "469/469 [==============================] - 2s 5ms/step - loss: 0.0735 - accuracy: 0.9737\n",
            "Epoch 48/50\n",
            "469/469 [==============================] - 2s 5ms/step - loss: 0.0724 - accuracy: 0.9745\n",
            "Epoch 49/50\n",
            "469/469 [==============================] - 2s 5ms/step - loss: 0.0726 - accuracy: 0.9755\n",
            "Epoch 50/50\n",
            "469/469 [==============================] - 2s 5ms/step - loss: 0.0688 - accuracy: 0.9738\n"
          ]
        },
        {
          "output_type": "execute_result",
          "data": {
            "text/plain": [
              "<keras.callbacks.History at 0x7fc82a059790>"
            ]
          },
          "metadata": {},
          "execution_count": 3
        }
      ]
    },
    {
      "cell_type": "markdown",
      "source": [
        "# **Testing**"
      ],
      "metadata": {
        "id": "wOj3Q-5EMSA0"
      }
    },
    {
      "cell_type": "code",
      "source": [
        "test_loss, test_acc = model.evaluate(test_images, test_labels, verbose=0)\n",
        "print('Test accuracy:', test_acc)"
      ],
      "metadata": {
        "colab": {
          "base_uri": "https://localhost:8080/"
        },
        "id": "dyusm6zVCaxE",
        "outputId": "6edf38d0-7899-4ba4-c82d-b6467c6aa930"
      },
      "execution_count": 4,
      "outputs": [
        {
          "output_type": "stream",
          "name": "stdout",
          "text": [
            "Test accuracy: 0.8705999851226807\n"
          ]
        }
      ]
    },
    {
      "cell_type": "code",
      "source": [
        "predictions = model.predict(test_images)"
      ],
      "metadata": {
        "colab": {
          "base_uri": "https://localhost:8080/"
        },
        "id": "XK6VPi46CcjU",
        "outputId": "94008eb1-d1e9-4137-a31e-b4bc4be483bd"
      },
      "execution_count": 5,
      "outputs": [
        {
          "output_type": "stream",
          "name": "stdout",
          "text": [
            "313/313 [==============================] - 1s 3ms/step\n"
          ]
        }
      ]
    },
    {
      "cell_type": "code",
      "source": [
        "# print out the predicted label and corresponding class name\n",
        "for i in range(30):\n",
        "    predicted_label = np.argmax(predictions[i])\n",
        "    true_label = np.argmax(test_labels[i])\n",
        "    print(f'Example {i+1} :')\n",
        "    print(f'Expected: {true_label} ({class_labels[true_label]})')\n",
        "    print(f'Predicted: {predicted_label} ({class_labels[predicted_label]})')\n"
      ],
      "metadata": {
        "colab": {
          "base_uri": "https://localhost:8080/"
        },
        "id": "Re5roTHXCdL0",
        "outputId": "085cfd1c-eabc-426f-c0a9-23ba55599a2a"
      },
      "execution_count": 6,
      "outputs": [
        {
          "output_type": "stream",
          "name": "stdout",
          "text": [
            "Example 1 :\n",
            "Expected: 0 (T-shirt/top)\n",
            "Predicted: 0 (T-shirt/top)\n",
            "Example 2 :\n",
            "Expected: 1 (Trouser)\n",
            "Predicted: 1 (Trouser)\n",
            "Example 3 :\n",
            "Expected: 2 (Pullover)\n",
            "Predicted: 2 (Pullover)\n",
            "Example 4 :\n",
            "Expected: 2 (Pullover)\n",
            "Predicted: 0 (T-shirt/top)\n",
            "Example 5 :\n",
            "Expected: 3 (Dress)\n",
            "Predicted: 3 (Dress)\n",
            "Example 6 :\n",
            "Expected: 2 (Pullover)\n",
            "Predicted: 6 (Shirt)\n",
            "Example 7 :\n",
            "Expected: 8 (Bag)\n",
            "Predicted: 8 (Bag)\n",
            "Example 8 :\n",
            "Expected: 6 (Shirt)\n",
            "Predicted: 6 (Shirt)\n",
            "Example 9 :\n",
            "Expected: 5 (Sandal)\n",
            "Predicted: 5 (Sandal)\n",
            "Example 10 :\n",
            "Expected: 0 (T-shirt/top)\n",
            "Predicted: 0 (T-shirt/top)\n",
            "Example 11 :\n",
            "Expected: 3 (Dress)\n",
            "Predicted: 3 (Dress)\n",
            "Example 12 :\n",
            "Expected: 4 (Coat)\n",
            "Predicted: 2 (Pullover)\n",
            "Example 13 :\n",
            "Expected: 4 (Coat)\n",
            "Predicted: 4 (Coat)\n",
            "Example 14 :\n",
            "Expected: 6 (Shirt)\n",
            "Predicted: 6 (Shirt)\n",
            "Example 15 :\n",
            "Expected: 8 (Bag)\n",
            "Predicted: 8 (Bag)\n",
            "Example 16 :\n",
            "Expected: 5 (Sandal)\n",
            "Predicted: 5 (Sandal)\n",
            "Example 17 :\n",
            "Expected: 6 (Shirt)\n",
            "Predicted: 6 (Shirt)\n",
            "Example 18 :\n",
            "Expected: 3 (Dress)\n",
            "Predicted: 3 (Dress)\n",
            "Example 19 :\n",
            "Expected: 6 (Shirt)\n",
            "Predicted: 6 (Shirt)\n",
            "Example 20 :\n",
            "Expected: 4 (Coat)\n",
            "Predicted: 4 (Coat)\n",
            "Example 21 :\n",
            "Expected: 4 (Coat)\n",
            "Predicted: 4 (Coat)\n",
            "Example 22 :\n",
            "Expected: 4 (Coat)\n",
            "Predicted: 4 (Coat)\n",
            "Example 23 :\n",
            "Expected: 2 (Pullover)\n",
            "Predicted: 2 (Pullover)\n",
            "Example 24 :\n",
            "Expected: 1 (Trouser)\n",
            "Predicted: 1 (Trouser)\n",
            "Example 25 :\n",
            "Expected: 5 (Sandal)\n",
            "Predicted: 5 (Sandal)\n",
            "Example 26 :\n",
            "Expected: 7 (Sneaker)\n",
            "Predicted: 7 (Sneaker)\n",
            "Example 27 :\n",
            "Expected: 8 (Bag)\n",
            "Predicted: 8 (Bag)\n",
            "Example 28 :\n",
            "Expected: 4 (Coat)\n",
            "Predicted: 4 (Coat)\n",
            "Example 29 :\n",
            "Expected: 4 (Coat)\n",
            "Predicted: 4 (Coat)\n",
            "Example 30 :\n",
            "Expected: 1 (Trouser)\n",
            "Predicted: 1 (Trouser)\n"
          ]
        }
      ]
    },
    {
      "cell_type": "markdown",
      "source": [
        "# **Export the model**"
      ],
      "metadata": {
        "id": "tY-Bh2GWNHtq"
      }
    },
    {
      "cell_type": "code",
      "source": [
        "model.save('/content/drive/MyDrive/MLops/data/fashion_mnist_model.h5')"
      ],
      "metadata": {
        "id": "EnwggJWVNLez"
      },
      "execution_count": null,
      "outputs": []
    }
  ]
}